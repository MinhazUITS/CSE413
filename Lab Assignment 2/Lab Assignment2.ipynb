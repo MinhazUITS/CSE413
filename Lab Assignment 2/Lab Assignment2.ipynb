{
  "nbformat": 4,
  "nbformat_minor": 0,
  "metadata": {
    "colab": {
      "provenance": []
    },
    "kernelspec": {
      "name": "python3",
      "display_name": "Python 3"
    },
    "language_info": {
      "name": "python"
    }
  },
  "cells": [
    {
      "cell_type": "code",
      "execution_count": 4,
      "metadata": {
        "id": "VPzCZzf9pzNt"
      },
      "outputs": [],
      "source": [
        "import numpy as np\n",
        "from sympy import Matrix\n",
        "import matplotlib.pyplot as plt\n",
        "import seaborn as sns\n"
      ]
    },
    {
      "cell_type": "code",
      "source": [
        "#Task 01 : Use numpy to create a 3×3 matrix of random integers between 1 and 50.\n",
        "Matrix = np.random.randint(1, 50, (3, 3))\n",
        "print(Matrix)\n",
        ""
      ],
      "metadata": {
        "colab": {
          "base_uri": "https://localhost:8080/"
        },
        "id": "m-Q6lv3csIls",
        "outputId": "654f79ec-b634-42e5-a2d8-e503e9724cdd"
      },
      "execution_count": 5,
      "outputs": [
        {
          "output_type": "stream",
          "name": "stdout",
          "text": [
            "[[10 26  8]\n",
            " [46  3  2]\n",
            " [38  2 45]]\n"
          ]
        }
      ]
    },
    {
      "cell_type": "code",
      "source": [
        "#Task 2 : Use numpy to create a 3×3 matrix of random integers between 1 and 50. With a fixed seed (`np.random.seed(10)`) to ensure reproducibility.\n",
        "np.random.seed(10)\n",
        "Matrix = np.random.randint(1, 50, (3, 3))\n",
        "print(Matrix)"
      ],
      "metadata": {
        "colab": {
          "base_uri": "https://localhost:8080/"
        },
        "id": "B8cafZ1SsWsj",
        "outputId": "63929fe0-84e9-43aa-c264-7bad7e8104f8"
      },
      "execution_count": 6,
      "outputs": [
        {
          "output_type": "stream",
          "name": "stdout",
          "text": [
            "[[10 37 16]\n",
            " [ 1 29 26]\n",
            " [30 49 30]]\n"
          ]
        }
      ]
    },
    {
      "cell_type": "markdown",
      "source": [
        "# Explanation:\n",
        "\n",
        "\n",
        "\n",
        "### Task 1: Random Matrix Without a Fixed Seed\n",
        "When you generate a 3×3 matrix of random numbers without setting a seed, the values change every time you run the code. This happens because the random number generator is initialized differently each time, producing new random values. This is useful when you need fresh randomness for things like simulations or testing.\n",
        "\n",
        "### Task 2: Random Matrix With a Fixed Seed (np.random.seed(10))\n",
        "By setting a fixed seed (like np.random.seed(10)), you ensure the same random numbers are generated every time you run the code. This makes the results predictable and repeatable. It’s important for consistency in tests, debugging, or research where you need the same outcomes.\n",
        "\n",
        "### Why Use a Seed?\n",
        "**Reproducibility**: Helps you get the same results every time, making tests reliable.\n",
        "**Consistency**: Ensures everyone gets the same results if they run the same code.\n",
        "**Controlled Randomness**: Useful when you need repeatable results in simulations, machine learning, or research."
      ],
      "metadata": {
        "id": "as69vIx2sjZr"
      }
    }
  ]
}